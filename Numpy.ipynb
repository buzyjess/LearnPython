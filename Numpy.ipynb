{
 "cells": [
  {
   "cell_type": "markdown",
   "metadata": {},
   "source": [
    "# Learn Python - \n",
    "## Lessons  Numpy \n",
    "\n",
    "\n"
   ]
  },
  {
   "cell_type": "markdown",
   "metadata": {},
   "source": [
    "Numpy Array creation\n",
    "N-dimensional arrays or ndarray can be created in multiple ways in numpy.\n",
    "\n",
    "From Python built-in datatypes : lists or tuples\n",
    "\n",
    "- Using Numpy array creation methods like empty, ,identity ones, ones_like, \n",
    "- Using Numpy numeric sequence generators.\n",
    "- Using Numpy random module.\n",
    "- By reading data from a file"
   ]
  },
  {
   "cell_type": "markdown",
   "metadata": {},
   "source": [
    "### Empty and Empty like\n",
    "\n",
    "empty(shape[, dtype, order])\tReturn a new array of given shape and type, without initializing entries.\n",
    "\n",
    "empty_like(a[, dtype, order, subok])\tReturn a new array with the same shape and type as a given array."
   ]
  },
  {
   "cell_type": "code",
   "execution_count": 51,
   "metadata": {},
   "outputs": [
    {
     "data": {
      "text/plain": [
       "array([[0, 0, 0],\n",
       "       [0, 0, 0],\n",
       "       [0, 0, 0]])"
      ]
     },
     "execution_count": 51,
     "metadata": {},
     "output_type": "execute_result"
    }
   ],
   "source": [
    "import numpy as np\n",
    "import os\n",
    "np.empty(shape=[3,3],dtype= int)"
   ]
  },
  {
   "cell_type": "code",
   "execution_count": 20,
   "metadata": {},
   "outputs": [
    {
     "data": {
      "text/plain": [
       "array([[  4.29837112e-322,   3.30035851e-321,   2.47032823e-323,\n",
       "          2.56753189e-316],\n",
       "       [  0.00000000e+000,   3.23815565e-319,   2.56783861e-316,\n",
       "          0.00000000e+000]])"
      ]
     },
     "execution_count": 20,
     "metadata": {},
     "output_type": "execute_result"
    }
   ],
   "source": [
    "import numpy as np\n",
    "np.empty(shape=[2,4]) # create random numbers i observed that a zero array many a times. "
   ]
  },
  {
   "cell_type": "markdown",
   "metadata": {},
   "source": [
    "### Identity ,ones and ones_like\n",
    "\n",
    "identity(n[, dtype])\tReturn the identity array.\n",
    "\n",
    "ones(shape[, dtype, order])\tReturn a new array of given shape and type, filled with ones.\n",
    "\n",
    "ones_like(a[, dtype, order, subok])\tReturn an array of ones with the same shape and type as a given array."
   ]
  },
  {
   "cell_type": "code",
   "execution_count": 26,
   "metadata": {},
   "outputs": [
    {
     "data": {
      "text/plain": [
       "array([[ 1.,  0.,  0.,  0.,  0.],\n",
       "       [ 0.,  1.,  0.,  0.,  0.],\n",
       "       [ 0.,  0.,  1.,  0.,  0.],\n",
       "       [ 0.,  0.,  0.,  1.,  0.],\n",
       "       [ 0.,  0.,  0.,  0.,  1.]])"
      ]
     },
     "execution_count": 26,
     "metadata": {},
     "output_type": "execute_result"
    }
   ],
   "source": [
    "idn =np.identity(5)\n",
    "idn"
   ]
  },
  {
   "cell_type": "code",
   "execution_count": 24,
   "metadata": {},
   "outputs": [
    {
     "data": {
      "text/plain": [
       "array([[ 1.,  1.,  1.,  1.,  1.],\n",
       "       [ 1.,  1.,  1.,  1.,  1.],\n",
       "       [ 1.,  1.,  1.,  1.,  1.],\n",
       "       [ 1.,  1.,  1.,  1.,  1.],\n",
       "       [ 1.,  1.,  1.,  1.,  1.]], dtype=float16)"
      ]
     },
     "execution_count": 24,
     "metadata": {},
     "output_type": "execute_result"
    }
   ],
   "source": [
    "np.ones_like(a=idn,dtype=np.float16)"
   ]
  },
  {
   "cell_type": "code",
   "execution_count": 27,
   "metadata": {},
   "outputs": [
    {
     "data": {
      "text/plain": [
       "array([[ 1.,  1.],\n",
       "       [ 1.,  1.],\n",
       "       [ 1.,  1.],\n",
       "       [ 1.,  1.],\n",
       "       [ 1.,  1.]])"
      ]
     },
     "execution_count": 27,
     "metadata": {},
     "output_type": "execute_result"
    }
   ],
   "source": [
    "np.ones([5,2])"
   ]
  },
  {
   "cell_type": "markdown",
   "metadata": {},
   "source": [
    "### Numpy Sequence generators\n",
    "\n",
    "\n",
    "- arange([start,] stop[, step,][, dtype])\tReturn evenly spaced values within a given interval.\n",
    "\n",
    "- linspace(start, stop[, num, endpoint, ...])\tReturn evenly spaced numbers over a specified interval.\n",
    "- logspace(start, stop[, num, endpoint, base, ...])\tReturn numbers spaced evenly on a log scale.\n",
    "\n"
   ]
  },
  {
   "cell_type": "code",
   "execution_count": 33,
   "metadata": {},
   "outputs": [
    {
     "data": {
      "text/plain": [
       "array([1, 3, 5, 7, 9])"
      ]
     },
     "execution_count": 33,
     "metadata": {},
     "output_type": "execute_result"
    }
   ],
   "source": [
    "np.arange(start =1 , stop =10, step= 2)"
   ]
  },
  {
   "cell_type": "code",
   "execution_count": 44,
   "metadata": {},
   "outputs": [
    {
     "data": {
      "text/plain": [
       "array([  5.        ,   5.64516129,   6.29032258,   6.93548387,\n",
       "         7.58064516,   8.22580645,   8.87096774,   9.51612903,\n",
       "        10.16129032,  10.80645161,  11.4516129 ,  12.09677419,\n",
       "        12.74193548,  13.38709677,  14.03225806,  14.67741935,\n",
       "        15.32258065,  15.96774194,  16.61290323,  17.25806452,\n",
       "        17.90322581,  18.5483871 ,  19.19354839,  19.83870968,\n",
       "        20.48387097,  21.12903226,  21.77419355,  22.41935484,\n",
       "        23.06451613,  23.70967742,  24.35483871])"
      ]
     },
     "execution_count": 44,
     "metadata": {},
     "output_type": "execute_result"
    }
   ],
   "source": [
    "np.linspace(start=5 , stop= 25,num=31,endpoint=False,dtype=np.float64)"
   ]
  },
  {
   "cell_type": "code",
   "execution_count": 48,
   "metadata": {},
   "outputs": [
    {
     "data": {
      "text/plain": [
       "array([    2.        ,     9.51365692,    45.254834  ,   215.2694823 ,\n",
       "        1024.        ])"
      ]
     },
     "execution_count": 48,
     "metadata": {},
     "output_type": "execute_result"
    }
   ],
   "source": [
    "np.logspace(start=1,stop =10, num =5,base =2)"
   ]
  },
  {
   "cell_type": "markdown",
   "metadata": {},
   "source": [
    "### Import from file and string\n",
    "fromfile(file[, dtype, count, sep])\tConstruct an array from data in a text or binary file.\n",
    "\n",
    "fromstring(string[, dtype, count, sep])\tA new 1-D array initialized from raw binary or text data in a string."
   ]
  },
  {
   "cell_type": "code",
   "execution_count": 53,
   "metadata": {},
   "outputs": [
    {
     "data": {
      "text/plain": [
       "array([  4.94065646e-323,   9.82500000e+001])"
      ]
     },
     "execution_count": 53,
     "metadata": {},
     "output_type": "execute_result"
    }
   ],
   "source": [
    "filename = \"temp.txt\"\n",
    "tpath = \".\"\n",
    "fpath =os.path.join(tpath,filename)\n",
    "\n",
    "dt = np.dtype([('time', [('min', int), ('sec', int)]),('temp', float)])\n",
    "x = np.zeros((1,), dtype=dt)\n",
    "x['time']['min'] = 10; x['temp'] = 98.25\n",
    "\n",
    "\n",
    "x.tofile(fpath)\n",
    "\n",
    "\n",
    "p=np.fromfile(fpath)\n",
    "\n",
    "p"
   ]
  },
  {
   "cell_type": "code",
   "execution_count": 56,
   "metadata": {},
   "outputs": [
    {
     "data": {
      "text/plain": [
       "array([1, 2, 3], dtype=uint8)"
      ]
     },
     "execution_count": 56,
     "metadata": {},
     "output_type": "execute_result"
    }
   ],
   "source": [
    "np.fromstring('\\x01\\x02\\x03\\x04\\x05', dtype=np.uint8, count=3)"
   ]
  },
  {
   "cell_type": "code",
   "execution_count": 57,
   "metadata": {},
   "outputs": [
    {
     "data": {
      "text/plain": [
       "array([1, 2])"
      ]
     },
     "execution_count": 57,
     "metadata": {},
     "output_type": "execute_result"
    }
   ],
   "source": [
    "np.fromstring('1 2', dtype=int, sep=' ')\n",
    "\n"
   ]
  },
  {
   "cell_type": "markdown",
   "metadata": {},
   "source": [
    "### References\n",
    "https://www.dataquest.io/blog/jupyter-notebook-tips-tricks-shortcuts/\n",
    "\n",
    "https://blog.dominodatalab.com/lesser-known-ways-of-using-notebooks/\n"
   ]
  },
  {
   "cell_type": "code",
   "execution_count": null,
   "metadata": {
    "collapsed": true
   },
   "outputs": [],
   "source": []
  }
 ],
 "metadata": {
  "kernelspec": {
   "display_name": "Python 3",
   "language": "python",
   "name": "python3"
  },
  "language_info": {
   "codemirror_mode": {
    "name": "ipython",
    "version": 3
   },
   "file_extension": ".py",
   "mimetype": "text/x-python",
   "name": "python",
   "nbconvert_exporter": "python",
   "pygments_lexer": "ipython3",
   "version": "3.6.1"
  }
 },
 "nbformat": 4,
 "nbformat_minor": 2
}
